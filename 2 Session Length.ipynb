{
 "cells": [
  {
   "cell_type": "markdown",
   "metadata": {},
   "source": [
    "# Session Length"
   ]
  },
  {
   "cell_type": "code",
   "execution_count": 1,
   "metadata": {},
   "outputs": [],
   "source": [
    "import pandas as pd\n",
    "import numpy as np\n",
    "import matplotlib.pyplot as plt\n",
    "import dataframe_image as dfi"
   ]
  },
  {
   "cell_type": "code",
   "execution_count": 2,
   "metadata": {},
   "outputs": [
    {
     "data": {
      "text/html": [
       "<div>\n",
       "<style scoped>\n",
       "    .dataframe tbody tr th:only-of-type {\n",
       "        vertical-align: middle;\n",
       "    }\n",
       "\n",
       "    .dataframe tbody tr th {\n",
       "        vertical-align: top;\n",
       "    }\n",
       "\n",
       "    .dataframe thead th {\n",
       "        text-align: right;\n",
       "    }\n",
       "</style>\n",
       "<table border=\"1\" class=\"dataframe\">\n",
       "  <thead>\n",
       "    <tr style=\"text-align: right;\">\n",
       "      <th></th>\n",
       "      <th>event_id</th>\n",
       "      <th>event_timestamp</th>\n",
       "      <th>page_title</th>\n",
       "      <th>organization_id</th>\n",
       "      <th>user_id</th>\n",
       "      <th>month</th>\n",
       "      <th>week</th>\n",
       "      <th>day</th>\n",
       "      <th>day_of_week</th>\n",
       "    </tr>\n",
       "  </thead>\n",
       "  <tbody>\n",
       "    <tr>\n",
       "      <th>0</th>\n",
       "      <td>ajs-51c205dff7f3f3541943fc69498875cc</td>\n",
       "      <td>2020-01-02 11:47:43</td>\n",
       "      <td>Welcome</td>\n",
       "      <td>18f6d076-394c-41d2-8ec6-e8b870535798</td>\n",
       "      <td>27f92d62-dbaa-4512-8b31-5ef541716695</td>\n",
       "      <td>1</td>\n",
       "      <td>1</td>\n",
       "      <td>2</td>\n",
       "      <td>Thursday</td>\n",
       "    </tr>\n",
       "    <tr>\n",
       "      <th>1</th>\n",
       "      <td>ajs-e49668e966f11460a35c70e9cab9edcd</td>\n",
       "      <td>2020-01-02 11:48:07</td>\n",
       "      <td>Welcome</td>\n",
       "      <td>18f6d076-394c-41d2-8ec6-e8b870535798</td>\n",
       "      <td>27f92d62-dbaa-4512-8b31-5ef541716695</td>\n",
       "      <td>1</td>\n",
       "      <td>1</td>\n",
       "      <td>2</td>\n",
       "      <td>Thursday</td>\n",
       "    </tr>\n",
       "    <tr>\n",
       "      <th>2</th>\n",
       "      <td>ajs-0aedceadad5d3d4f8ec2367bd4230c39</td>\n",
       "      <td>2020-01-02 11:48:16</td>\n",
       "      <td>Job position</td>\n",
       "      <td>18f6d076-394c-41d2-8ec6-e8b870535798</td>\n",
       "      <td>27f92d62-dbaa-4512-8b31-5ef541716695</td>\n",
       "      <td>1</td>\n",
       "      <td>1</td>\n",
       "      <td>2</td>\n",
       "      <td>Thursday</td>\n",
       "    </tr>\n",
       "    <tr>\n",
       "      <th>3</th>\n",
       "      <td>ajs-90802aefaa8f58920c8dfcce19304fad</td>\n",
       "      <td>2020-01-05 16:30:59</td>\n",
       "      <td>Job position</td>\n",
       "      <td>18f6d076-394c-41d2-8ec6-e8b870535798</td>\n",
       "      <td>27f92d62-dbaa-4512-8b31-5ef541716695</td>\n",
       "      <td>1</td>\n",
       "      <td>1</td>\n",
       "      <td>5</td>\n",
       "      <td>Sunday</td>\n",
       "    </tr>\n",
       "    <tr>\n",
       "      <th>4</th>\n",
       "      <td>ajs-8354ae15e8bbe83e06efc759737c0932</td>\n",
       "      <td>2020-01-05 16:31:04</td>\n",
       "      <td>All job positions</td>\n",
       "      <td>18f6d076-394c-41d2-8ec6-e8b870535798</td>\n",
       "      <td>27f92d62-dbaa-4512-8b31-5ef541716695</td>\n",
       "      <td>1</td>\n",
       "      <td>1</td>\n",
       "      <td>5</td>\n",
       "      <td>Sunday</td>\n",
       "    </tr>\n",
       "  </tbody>\n",
       "</table>\n",
       "</div>"
      ],
      "text/plain": [
       "                               event_id     event_timestamp  \\\n",
       "0  ajs-51c205dff7f3f3541943fc69498875cc 2020-01-02 11:47:43   \n",
       "1  ajs-e49668e966f11460a35c70e9cab9edcd 2020-01-02 11:48:07   \n",
       "2  ajs-0aedceadad5d3d4f8ec2367bd4230c39 2020-01-02 11:48:16   \n",
       "3  ajs-90802aefaa8f58920c8dfcce19304fad 2020-01-05 16:30:59   \n",
       "4  ajs-8354ae15e8bbe83e06efc759737c0932 2020-01-05 16:31:04   \n",
       "\n",
       "          page_title                       organization_id  \\\n",
       "0            Welcome  18f6d076-394c-41d2-8ec6-e8b870535798   \n",
       "1            Welcome  18f6d076-394c-41d2-8ec6-e8b870535798   \n",
       "2       Job position  18f6d076-394c-41d2-8ec6-e8b870535798   \n",
       "3       Job position  18f6d076-394c-41d2-8ec6-e8b870535798   \n",
       "4  All job positions  18f6d076-394c-41d2-8ec6-e8b870535798   \n",
       "\n",
       "                                user_id  month  week  day day_of_week  \n",
       "0  27f92d62-dbaa-4512-8b31-5ef541716695      1     1    2    Thursday  \n",
       "1  27f92d62-dbaa-4512-8b31-5ef541716695      1     1    2    Thursday  \n",
       "2  27f92d62-dbaa-4512-8b31-5ef541716695      1     1    2    Thursday  \n",
       "3  27f92d62-dbaa-4512-8b31-5ef541716695      1     1    5      Sunday  \n",
       "4  27f92d62-dbaa-4512-8b31-5ef541716695      1     1    5      Sunday  "
      ]
     },
     "execution_count": 2,
     "metadata": {},
     "output_type": "execute_result"
    }
   ],
   "source": [
    "# import data, with all columns with string data type, for now\n",
    "data = pd.read_csv('data1.csv')\n",
    "# change data type to time stamp in 'event_timestamp'\n",
    "data['event_timestamp'] = data['event_timestamp'].astype('datetime64[s]')\n",
    "data.head()"
   ]
  },
  {
   "cell_type": "code",
   "execution_count": 3,
   "metadata": {},
   "outputs": [],
   "source": [
    "def sessions(df, user, day):\n",
    "    # create a subframe for that user and day\n",
    "    cols = ['event_id', 'event_timestamp', 'page_title','user_id','day']\n",
    "    user_day = df[(df['user_id'] == user) & (data['day'] == day)][cols].reset_index()\n",
    "    \n",
    "    # sort by event_timestamp\n",
    "    user_day = user_day.sort_values('event_timestamp')\n",
    "    \n",
    "    # create a delta column, between a row and the next one\n",
    "    user_day['delta'] = (user_day['event_timestamp']-user_day['event_timestamp'].shift())\n",
    "    user_day['delta in sec'] = user_day['delta'].apply(lambda x: x/np.timedelta64(1, 's')).fillna(0).astype('int64')\n",
    "    \n",
    "    # create a start column, when delta == 0 or delta > 2 hours\n",
    "    between_sessions = 7200 #2 hours in second\n",
    "    condition = (user_day['delta in sec'] == 0)| (user_day['delta in sec'] > between_sessions)\n",
    "    user_day['start'] = np.where(condition, 1, 0)\n",
    "    \n",
    "    # get the start indexes\n",
    "    index_start = user_day.index[user_day['start'] == 1].tolist()\n",
    "\n",
    "    # create the end index, on the row previous at the start one, and at the end\n",
    "    index_end = [i - 1 for i in index_start]\n",
    "    index_end = [i for i in index_end if i > 0]\n",
    "    # and add the last index on the data set\n",
    "    index_end.append(user_day.index[-1])\n",
    "    \n",
    "    # locate 1s on the positions\n",
    "    for i in index_end:\n",
    "        user_day.loc[i, 'end'] = 1\n",
    "        \n",
    "    # fill the rest with 0\n",
    "    user_day['end'] = user_day['end'].fillna(0)\n",
    "    \n",
    "    # select starting points and end points\n",
    "    starts = user_day[user_day['start'] == 1]['event_timestamp'].values\n",
    "    ends = user_day[user_day['end'] == 1]['event_timestamp'].values\n",
    "    \n",
    "    return starts, ends"
   ]
  },
  {
   "cell_type": "code",
   "execution_count": 4,
   "metadata": {},
   "outputs": [],
   "source": [
    "unique_users = data['user_id'].unique()"
   ]
  },
  {
   "cell_type": "code",
   "execution_count": 5,
   "metadata": {},
   "outputs": [],
   "source": [
    "res = {}\n",
    "for user in unique_users:\n",
    "    # select the days they are active\n",
    "    days = data[data['user_id'] == user]['day'].unique()\n",
    "    for day in days:\n",
    "        starts = sessions(data, user, day)[0]\n",
    "        ends = sessions(data, user, day)[1]\n",
    "        for i in range(len(ends)):\n",
    "            diff = ends[i] - starts[i]\n",
    "            diff = diff.astype('timedelta64[m]')\n",
    "            diff = diff.astype('int64')\n",
    "            res[user+'----'+str(i)] = diff     "
   ]
  },
  {
   "cell_type": "code",
   "execution_count": 6,
   "metadata": {},
   "outputs": [],
   "source": [
    "sessions_df = pd.DataFrame(res.items())\n",
    "sessions_df.to_csv('sessions.csv', index=False)"
   ]
  },
  {
   "cell_type": "code",
   "execution_count": 7,
   "metadata": {},
   "outputs": [],
   "source": [
    "sessions_df.columns = ['user_id', 'session_length']"
   ]
  },
  {
   "cell_type": "code",
   "execution_count": 8,
   "metadata": {},
   "outputs": [
    {
     "data": {
      "text/html": [
       "<div>\n",
       "<style scoped>\n",
       "    .dataframe tbody tr th:only-of-type {\n",
       "        vertical-align: middle;\n",
       "    }\n",
       "\n",
       "    .dataframe tbody tr th {\n",
       "        vertical-align: top;\n",
       "    }\n",
       "\n",
       "    .dataframe thead th {\n",
       "        text-align: right;\n",
       "    }\n",
       "</style>\n",
       "<table border=\"1\" class=\"dataframe\">\n",
       "  <thead>\n",
       "    <tr style=\"text-align: right;\">\n",
       "      <th></th>\n",
       "      <th>user_id</th>\n",
       "      <th>session_length</th>\n",
       "    </tr>\n",
       "  </thead>\n",
       "  <tbody>\n",
       "    <tr>\n",
       "      <th>0</th>\n",
       "      <td>27f92d62-dbaa-4512-8b31-5ef541716695----0</td>\n",
       "      <td>0</td>\n",
       "    </tr>\n",
       "    <tr>\n",
       "      <th>1</th>\n",
       "      <td>27f92d62-dbaa-4512-8b31-5ef541716695----1</td>\n",
       "      <td>0</td>\n",
       "    </tr>\n",
       "    <tr>\n",
       "      <th>2</th>\n",
       "      <td>0c5827be-129c-4716-8a97-0ca0a23e2545----0</td>\n",
       "      <td>1</td>\n",
       "    </tr>\n",
       "    <tr>\n",
       "      <th>3</th>\n",
       "      <td>0c5827be-129c-4716-8a97-0ca0a23e2545----1</td>\n",
       "      <td>0</td>\n",
       "    </tr>\n",
       "    <tr>\n",
       "      <th>4</th>\n",
       "      <td>0c5827be-129c-4716-8a97-0ca0a23e2545----2</td>\n",
       "      <td>0</td>\n",
       "    </tr>\n",
       "  </tbody>\n",
       "</table>\n",
       "</div>"
      ],
      "text/plain": [
       "                                     user_id  session_length\n",
       "0  27f92d62-dbaa-4512-8b31-5ef541716695----0               0\n",
       "1  27f92d62-dbaa-4512-8b31-5ef541716695----1               0\n",
       "2  0c5827be-129c-4716-8a97-0ca0a23e2545----0               1\n",
       "3  0c5827be-129c-4716-8a97-0ca0a23e2545----1               0\n",
       "4  0c5827be-129c-4716-8a97-0ca0a23e2545----2               0"
      ]
     },
     "execution_count": 8,
     "metadata": {},
     "output_type": "execute_result"
    }
   ],
   "source": [
    "sessions_df.head()"
   ]
  },
  {
   "cell_type": "code",
   "execution_count": 9,
   "metadata": {},
   "outputs": [
    {
     "data": {
      "text/html": [
       "<div>\n",
       "<style scoped>\n",
       "    .dataframe tbody tr th:only-of-type {\n",
       "        vertical-align: middle;\n",
       "    }\n",
       "\n",
       "    .dataframe tbody tr th {\n",
       "        vertical-align: top;\n",
       "    }\n",
       "\n",
       "    .dataframe thead th {\n",
       "        text-align: right;\n",
       "    }\n",
       "</style>\n",
       "<table border=\"1\" class=\"dataframe\">\n",
       "  <thead>\n",
       "    <tr style=\"text-align: right;\">\n",
       "      <th></th>\n",
       "      <th>session_length</th>\n",
       "      <th>frequency</th>\n",
       "    </tr>\n",
       "  </thead>\n",
       "  <tbody>\n",
       "    <tr>\n",
       "      <th>0</th>\n",
       "      <td>0</td>\n",
       "      <td>537</td>\n",
       "    </tr>\n",
       "    <tr>\n",
       "      <th>1</th>\n",
       "      <td>1</td>\n",
       "      <td>64</td>\n",
       "    </tr>\n",
       "    <tr>\n",
       "      <th>2</th>\n",
       "      <td>2</td>\n",
       "      <td>24</td>\n",
       "    </tr>\n",
       "    <tr>\n",
       "      <th>3</th>\n",
       "      <td>3</td>\n",
       "      <td>24</td>\n",
       "    </tr>\n",
       "    <tr>\n",
       "      <th>4</th>\n",
       "      <td>4</td>\n",
       "      <td>21</td>\n",
       "    </tr>\n",
       "    <tr>\n",
       "      <th>6</th>\n",
       "      <td>5</td>\n",
       "      <td>13</td>\n",
       "    </tr>\n",
       "    <tr>\n",
       "      <th>8</th>\n",
       "      <td>6</td>\n",
       "      <td>12</td>\n",
       "    </tr>\n",
       "    <tr>\n",
       "      <th>13</th>\n",
       "      <td>7</td>\n",
       "      <td>10</td>\n",
       "    </tr>\n",
       "    <tr>\n",
       "      <th>11</th>\n",
       "      <td>8</td>\n",
       "      <td>11</td>\n",
       "    </tr>\n",
       "    <tr>\n",
       "      <th>12</th>\n",
       "      <td>9</td>\n",
       "      <td>10</td>\n",
       "    </tr>\n",
       "  </tbody>\n",
       "</table>\n",
       "</div>"
      ],
      "text/plain": [
       "    session_length  frequency\n",
       "0                0        537\n",
       "1                1         64\n",
       "2                2         24\n",
       "3                3         24\n",
       "4                4         21\n",
       "6                5         13\n",
       "8                6         12\n",
       "13               7         10\n",
       "11               8         11\n",
       "12               9         10"
      ]
     },
     "execution_count": 9,
     "metadata": {},
     "output_type": "execute_result"
    }
   ],
   "source": [
    "value_counts = pd.DataFrame(sessions_df['session_length'].value_counts()).reset_index()\n",
    "value_counts.columns = ['session_length', 'frequency']\n",
    "value_counts = value_counts.sort_values('session_length')\n",
    "value_counts.head(10)"
   ]
  },
  {
   "cell_type": "code",
   "execution_count": 10,
   "metadata": {},
   "outputs": [
    {
     "data": {
      "text/plain": [
       "13"
      ]
     },
     "execution_count": 10,
     "metadata": {},
     "output_type": "execute_result"
    }
   ],
   "source": [
    "len(value_counts[value_counts['session_length'] > 240]['frequency'].values)"
   ]
  },
  {
   "cell_type": "code",
   "execution_count": 11,
   "metadata": {},
   "outputs": [
    {
     "data": {
      "text/html": [
       "<div>\n",
       "<style scoped>\n",
       "    .dataframe tbody tr th:only-of-type {\n",
       "        vertical-align: middle;\n",
       "    }\n",
       "\n",
       "    .dataframe tbody tr th {\n",
       "        vertical-align: top;\n",
       "    }\n",
       "\n",
       "    .dataframe thead th {\n",
       "        text-align: right;\n",
       "    }\n",
       "</style>\n",
       "<table border=\"1\" class=\"dataframe\">\n",
       "  <thead>\n",
       "    <tr style=\"text-align: right;\">\n",
       "      <th></th>\n",
       "      <th>user_id</th>\n",
       "      <th>session_length</th>\n",
       "    </tr>\n",
       "  </thead>\n",
       "  <tbody>\n",
       "    <tr>\n",
       "      <th>2</th>\n",
       "      <td>0c5827be-129c-4716-8a97-0ca0a23e2545----0</td>\n",
       "      <td>1</td>\n",
       "    </tr>\n",
       "    <tr>\n",
       "      <th>5</th>\n",
       "      <td>0c5827be-129c-4716-8a97-0ca0a23e2545----3</td>\n",
       "      <td>40</td>\n",
       "    </tr>\n",
       "    <tr>\n",
       "      <th>8</th>\n",
       "      <td>f2b0fb3c-5663-47c0-a794-4b217f2bf8b8----2</td>\n",
       "      <td>1</td>\n",
       "    </tr>\n",
       "    <tr>\n",
       "      <th>9</th>\n",
       "      <td>4a6ab0ea-4d17-43e0-a273-c5705985ccd6----0</td>\n",
       "      <td>21</td>\n",
       "    </tr>\n",
       "    <tr>\n",
       "      <th>10</th>\n",
       "      <td>4a6ab0ea-4d17-43e0-a273-c5705985ccd6----1</td>\n",
       "      <td>9</td>\n",
       "    </tr>\n",
       "  </tbody>\n",
       "</table>\n",
       "</div>"
      ],
      "text/plain": [
       "                                      user_id  session_length\n",
       "2   0c5827be-129c-4716-8a97-0ca0a23e2545----0               1\n",
       "5   0c5827be-129c-4716-8a97-0ca0a23e2545----3              40\n",
       "8   f2b0fb3c-5663-47c0-a794-4b217f2bf8b8----2               1\n",
       "9   4a6ab0ea-4d17-43e0-a273-c5705985ccd6----0              21\n",
       "10  4a6ab0ea-4d17-43e0-a273-c5705985ccd6----1               9"
      ]
     },
     "execution_count": 11,
     "metadata": {},
     "output_type": "execute_result"
    }
   ],
   "source": [
    "# lets look into the sessions > 0 min and < 240 (4 hrs)\n",
    "sessions_more_zero = sessions_df[(sessions_df['session_length'] > 0) & (sessions_df['session_length'] < 240)]\n",
    "sessions_more_zero.head()"
   ]
  },
  {
   "cell_type": "code",
   "execution_count": 12,
   "metadata": {},
   "outputs": [
    {
     "data": {
      "image/png": "[encoded data removed]",
      "text/plain": [
       "<Figure size 720x360 with 1 Axes>"
      ]
     },
     "metadata": {
      "needs_background": "light"
     },
     "output_type": "display_data"
    },
    {
     "name": "stdout",
     "output_type": "stream",
     "text": [
      "counts [216.  81.  56.  39.  26.  17.  14.  10.  13.  13.   8.   5.   2.   5.\n",
      "   3.   6.   2.   4.   2.   2.   0.   5.]\n",
      "\n",
      "bins [  1.          11.72727273  22.45454545  33.18181818  43.90909091\n",
      "  54.63636364  65.36363636  76.09090909  86.81818182  97.54545455\n",
      " 108.27272727 119.         129.72727273 140.45454545 151.18181818\n",
      " 161.90909091 172.63636364 183.36363636 194.09090909 204.81818182\n",
      " 215.54545455 226.27272727 237.        ]\n",
      "\n",
      "n bins 23\n"
     ]
    }
   ],
   "source": [
    "x = sessions_more_zero['session_length']\n",
    "plt.figure(figsize=(10,5))\n",
    "counts, bins, bars = plt.hist(x, bins=22, color='darkblue')\n",
    "plt.grid(True)\n",
    "plt.title('Session Length distribution', fontsize = 16)\n",
    "plt.ylabel('frequency')\n",
    "plt.xlabel('session length in minutes')\n",
    "plt.savefig('figures/3/1_session_length', bbox_inches='tight')\n",
    "plt.show()\n",
    "print('counts',  counts)\n",
    "print('')\n",
    "print('bins', bins)\n",
    "print('')\n",
    "print('n bins', len(bins))"
   ]
  },
  {
   "cell_type": "code",
   "execution_count": 13,
   "metadata": {},
   "outputs": [
    {
     "data": {
      "text/html": [
       "<div>\n",
       "<style scoped>\n",
       "    .dataframe tbody tr th:only-of-type {\n",
       "        vertical-align: middle;\n",
       "    }\n",
       "\n",
       "    .dataframe tbody tr th {\n",
       "        vertical-align: top;\n",
       "    }\n",
       "\n",
       "    .dataframe thead th {\n",
       "        text-align: right;\n",
       "    }\n",
       "</style>\n",
       "<table border=\"1\" class=\"dataframe\">\n",
       "  <thead>\n",
       "    <tr style=\"text-align: right;\">\n",
       "      <th></th>\n",
       "      <th>count</th>\n",
       "      <th>mean</th>\n",
       "      <th>std</th>\n",
       "      <th>min</th>\n",
       "      <th>25%</th>\n",
       "      <th>50%</th>\n",
       "      <th>75%</th>\n",
       "      <th>max</th>\n",
       "    </tr>\n",
       "  </thead>\n",
       "  <tbody>\n",
       "    <tr>\n",
       "      <th>session_length</th>\n",
       "      <td>529.0</td>\n",
       "      <td>36.0</td>\n",
       "      <td>47.0</td>\n",
       "      <td>1.0</td>\n",
       "      <td>4.0</td>\n",
       "      <td>18.0</td>\n",
       "      <td>45.0</td>\n",
       "      <td>237.0</td>\n",
       "    </tr>\n",
       "  </tbody>\n",
       "</table>\n",
       "</div>"
      ],
      "text/plain": [
       "                count  mean   std  min  25%   50%   75%    max\n",
       "session_length  529.0  36.0  47.0  1.0  4.0  18.0  45.0  237.0"
      ]
     },
     "execution_count": 13,
     "metadata": {},
     "output_type": "execute_result"
    }
   ],
   "source": [
    "dfi.export(round(sessions_more_zero.describe().transpose()), 'tables/table3.png')\n",
    "round(sessions_more_zero.describe().transpose())"
   ]
  }
 ],
 "metadata": {
  "kernelspec": {
   "display_name": "Python 3",
   "language": "python",
   "name": "python3"
  },
  "language_info": {
   "codemirror_mode": {
    "name": "ipython",
    "version": 3
   },
   "file_extension": ".py",
   "mimetype": "text/x-python",
   "name": "python",
   "nbconvert_exporter": "python",
   "pygments_lexer": "ipython3",
   "version": "3.7.7"
  }
 },
 "nbformat": 4,
 "nbformat_minor": 4
}
