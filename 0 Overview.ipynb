{
 "cells": [
  {
   "cell_type": "markdown",
   "metadata": {},
   "source": [
    "# Overview"
   ]
  },
  {
   "cell_type": "code",
   "execution_count": 1,
   "metadata": {},
   "outputs": [],
   "source": [
    "import pandas as pd\n",
    "import numpy as np\n",
    "import matplotlib.pyplot as plt\n",
    "import dataframe_image as dfi"
   ]
  },
  {
   "cell_type": "code",
   "execution_count": 2,
   "metadata": {},
   "outputs": [
    {
     "data": {
      "text/html": [
       "<div>\n",
       "<style scoped>\n",
       "    .dataframe tbody tr th:only-of-type {\n",
       "        vertical-align: middle;\n",
       "    }\n",
       "\n",
       "    .dataframe tbody tr th {\n",
       "        vertical-align: top;\n",
       "    }\n",
       "\n",
       "    .dataframe thead th {\n",
       "        text-align: right;\n",
       "    }\n",
       "</style>\n",
       "<table border=\"1\" class=\"dataframe\">\n",
       "  <thead>\n",
       "    <tr style=\"text-align: right;\">\n",
       "      <th></th>\n",
       "      <th>event_id</th>\n",
       "      <th>event_timestamp</th>\n",
       "      <th>page_title</th>\n",
       "      <th>organization_id</th>\n",
       "      <th>user_id</th>\n",
       "    </tr>\n",
       "  </thead>\n",
       "  <tbody>\n",
       "    <tr>\n",
       "      <th>0</th>\n",
       "      <td>ajs-51c205dff7f3f3541943fc69498875cc</td>\n",
       "      <td>2020-01-02T11:47:43.710Z</td>\n",
       "      <td>Welcome</td>\n",
       "      <td>18f6d076-394c-41d2-8ec6-e8b870535798</td>\n",
       "      <td>27f92d62-dbaa-4512-8b31-5ef541716695</td>\n",
       "    </tr>\n",
       "    <tr>\n",
       "      <th>1</th>\n",
       "      <td>ajs-e49668e966f11460a35c70e9cab9edcd</td>\n",
       "      <td>2020-01-02T11:48:07.142Z</td>\n",
       "      <td>Welcome</td>\n",
       "      <td>18f6d076-394c-41d2-8ec6-e8b870535798</td>\n",
       "      <td>27f92d62-dbaa-4512-8b31-5ef541716695</td>\n",
       "    </tr>\n",
       "    <tr>\n",
       "      <th>2</th>\n",
       "      <td>ajs-0aedceadad5d3d4f8ec2367bd4230c39</td>\n",
       "      <td>2020-01-02T11:48:16.099Z</td>\n",
       "      <td>Job position</td>\n",
       "      <td>18f6d076-394c-41d2-8ec6-e8b870535798</td>\n",
       "      <td>27f92d62-dbaa-4512-8b31-5ef541716695</td>\n",
       "    </tr>\n",
       "    <tr>\n",
       "      <th>3</th>\n",
       "      <td>ajs-90802aefaa8f58920c8dfcce19304fad</td>\n",
       "      <td>2020-01-05T16:30:59.842Z</td>\n",
       "      <td>Job position</td>\n",
       "      <td>18f6d076-394c-41d2-8ec6-e8b870535798</td>\n",
       "      <td>27f92d62-dbaa-4512-8b31-5ef541716695</td>\n",
       "    </tr>\n",
       "    <tr>\n",
       "      <th>4</th>\n",
       "      <td>ajs-8354ae15e8bbe83e06efc759737c0932</td>\n",
       "      <td>2020-01-05T16:31:04.477Z</td>\n",
       "      <td>All job positions</td>\n",
       "      <td>18f6d076-394c-41d2-8ec6-e8b870535798</td>\n",
       "      <td>27f92d62-dbaa-4512-8b31-5ef541716695</td>\n",
       "    </tr>\n",
       "  </tbody>\n",
       "</table>\n",
       "</div>"
      ],
      "text/plain": [
       "                               event_id           event_timestamp  \\\n",
       "0  ajs-51c205dff7f3f3541943fc69498875cc  2020-01-02T11:47:43.710Z   \n",
       "1  ajs-e49668e966f11460a35c70e9cab9edcd  2020-01-02T11:48:07.142Z   \n",
       "2  ajs-0aedceadad5d3d4f8ec2367bd4230c39  2020-01-02T11:48:16.099Z   \n",
       "3  ajs-90802aefaa8f58920c8dfcce19304fad  2020-01-05T16:30:59.842Z   \n",
       "4  ajs-8354ae15e8bbe83e06efc759737c0932  2020-01-05T16:31:04.477Z   \n",
       "\n",
       "          page_title                       organization_id  \\\n",
       "0            Welcome  18f6d076-394c-41d2-8ec6-e8b870535798   \n",
       "1            Welcome  18f6d076-394c-41d2-8ec6-e8b870535798   \n",
       "2       Job position  18f6d076-394c-41d2-8ec6-e8b870535798   \n",
       "3       Job position  18f6d076-394c-41d2-8ec6-e8b870535798   \n",
       "4  All job positions  18f6d076-394c-41d2-8ec6-e8b870535798   \n",
       "\n",
       "                                user_id  \n",
       "0  27f92d62-dbaa-4512-8b31-5ef541716695  \n",
       "1  27f92d62-dbaa-4512-8b31-5ef541716695  \n",
       "2  27f92d62-dbaa-4512-8b31-5ef541716695  \n",
       "3  27f92d62-dbaa-4512-8b31-5ef541716695  \n",
       "4  27f92d62-dbaa-4512-8b31-5ef541716695  "
      ]
     },
     "execution_count": 2,
     "metadata": {},
     "output_type": "execute_result"
    }
   ],
   "source": [
    "# import data, with all columns with string data type, for now\n",
    "data = pd.read_csv('data.csv', dtype='str')\n",
    "data.head()"
   ]
  },
  {
   "cell_type": "code",
   "execution_count": 3,
   "metadata": {},
   "outputs": [
    {
     "data": {
      "text/plain": [
       "array([1], dtype=int64)"
      ]
     },
     "execution_count": 3,
     "metadata": {},
     "output_type": "execute_result"
    }
   ],
   "source": [
    "# no duplicates\n",
    "size = data.groupby(['event_timestamp', 'page_title', 'organization_id', 'user_id'],as_index=False).size()\n",
    "size['size'].unique()"
   ]
  },
  {
   "cell_type": "code",
   "execution_count": 4,
   "metadata": {},
   "outputs": [
    {
     "data": {
      "text/plain": [
       "event_id           0\n",
       "event_timestamp    0\n",
       "page_title         0\n",
       "organization_id    0\n",
       "user_id            0\n",
       "dtype: int64"
      ]
     },
     "execution_count": 4,
     "metadata": {},
     "output_type": "execute_result"
    }
   ],
   "source": [
    "# Null values check\n",
    "data.isnull().sum()"
   ]
  },
  {
   "cell_type": "code",
   "execution_count": 5,
   "metadata": {},
   "outputs": [
    {
     "data": {
      "text/plain": [
       "event_id           object\n",
       "event_timestamp    object\n",
       "page_title         object\n",
       "organization_id    object\n",
       "user_id            object\n",
       "dtype: object"
      ]
     },
     "execution_count": 5,
     "metadata": {},
     "output_type": "execute_result"
    }
   ],
   "source": [
    "data.dtypes"
   ]
  },
  {
   "cell_type": "code",
   "execution_count": 6,
   "metadata": {},
   "outputs": [],
   "source": [
    "# change data type to time stamp in 'event_timestamp'\n",
    "data['event_timestamp'] = data['event_timestamp'].astype('datetime64[s]')"
   ]
  },
  {
   "cell_type": "code",
   "execution_count": 7,
   "metadata": {},
   "outputs": [],
   "source": [
    "# save image of table for presentation\n",
    "data.head()\n",
    "dfi.export(data.head(), 'tables/table1.png')"
   ]
  },
  {
   "cell_type": "code",
   "execution_count": 8,
   "metadata": {},
   "outputs": [
    {
     "data": {
      "text/html": [
       "<div>\n",
       "<style scoped>\n",
       "    .dataframe tbody tr th:only-of-type {\n",
       "        vertical-align: middle;\n",
       "    }\n",
       "\n",
       "    .dataframe tbody tr th {\n",
       "        vertical-align: top;\n",
       "    }\n",
       "\n",
       "    .dataframe thead th {\n",
       "        text-align: right;\n",
       "    }\n",
       "</style>\n",
       "<table border=\"1\" class=\"dataframe\">\n",
       "  <thead>\n",
       "    <tr style=\"text-align: right;\">\n",
       "      <th></th>\n",
       "      <th>event_id</th>\n",
       "      <th>event_timestamp</th>\n",
       "      <th>page_title</th>\n",
       "      <th>organization_id</th>\n",
       "      <th>user_id</th>\n",
       "    </tr>\n",
       "  </thead>\n",
       "  <tbody>\n",
       "    <tr>\n",
       "      <th>count</th>\n",
       "      <td>41345</td>\n",
       "      <td>41345</td>\n",
       "      <td>41345</td>\n",
       "      <td>41345</td>\n",
       "      <td>41345</td>\n",
       "    </tr>\n",
       "    <tr>\n",
       "      <th>unique</th>\n",
       "      <td>41345</td>\n",
       "      <td>NaN</td>\n",
       "      <td>4</td>\n",
       "      <td>34</td>\n",
       "      <td>743</td>\n",
       "    </tr>\n",
       "    <tr>\n",
       "      <th>top</th>\n",
       "      <td>ajs-67f8d5485f93a1123786c12caa01b6db</td>\n",
       "      <td>NaN</td>\n",
       "      <td>Candidate page</td>\n",
       "      <td>b5753677-126d-4aad-8a7f-913210717f24</td>\n",
       "      <td>9a6d6f98-35dc-480a-be28-c92ed739bb03</td>\n",
       "    </tr>\n",
       "    <tr>\n",
       "      <th>freq</th>\n",
       "      <td>1</td>\n",
       "      <td>NaN</td>\n",
       "      <td>15575</td>\n",
       "      <td>4800</td>\n",
       "      <td>2580</td>\n",
       "    </tr>\n",
       "    <tr>\n",
       "      <th>mean</th>\n",
       "      <td>NaN</td>\n",
       "      <td>2020-08-10 22:17:45.203652352</td>\n",
       "      <td>NaN</td>\n",
       "      <td>NaN</td>\n",
       "      <td>NaN</td>\n",
       "    </tr>\n",
       "    <tr>\n",
       "      <th>min</th>\n",
       "      <td>NaN</td>\n",
       "      <td>2020-01-02 11:47:43</td>\n",
       "      <td>NaN</td>\n",
       "      <td>NaN</td>\n",
       "      <td>NaN</td>\n",
       "    </tr>\n",
       "    <tr>\n",
       "      <th>25%</th>\n",
       "      <td>NaN</td>\n",
       "      <td>2020-05-20 06:51:36</td>\n",
       "      <td>NaN</td>\n",
       "      <td>NaN</td>\n",
       "      <td>NaN</td>\n",
       "    </tr>\n",
       "    <tr>\n",
       "      <th>50%</th>\n",
       "      <td>NaN</td>\n",
       "      <td>2020-09-07 14:02:01</td>\n",
       "      <td>NaN</td>\n",
       "      <td>NaN</td>\n",
       "      <td>NaN</td>\n",
       "    </tr>\n",
       "    <tr>\n",
       "      <th>75%</th>\n",
       "      <td>NaN</td>\n",
       "      <td>2020-11-05 09:56:43</td>\n",
       "      <td>NaN</td>\n",
       "      <td>NaN</td>\n",
       "      <td>NaN</td>\n",
       "    </tr>\n",
       "    <tr>\n",
       "      <th>max</th>\n",
       "      <td>NaN</td>\n",
       "      <td>2020-12-31 12:13:04</td>\n",
       "      <td>NaN</td>\n",
       "      <td>NaN</td>\n",
       "      <td>NaN</td>\n",
       "    </tr>\n",
       "  </tbody>\n",
       "</table>\n",
       "</div>"
      ],
      "text/plain": [
       "                                    event_id                event_timestamp  \\\n",
       "count                                  41345                          41345   \n",
       "unique                                 41345                            NaN   \n",
       "top     ajs-67f8d5485f93a1123786c12caa01b6db                            NaN   \n",
       "freq                                       1                            NaN   \n",
       "mean                                     NaN  2020-08-10 22:17:45.203652352   \n",
       "min                                      NaN            2020-01-02 11:47:43   \n",
       "25%                                      NaN            2020-05-20 06:51:36   \n",
       "50%                                      NaN            2020-09-07 14:02:01   \n",
       "75%                                      NaN            2020-11-05 09:56:43   \n",
       "max                                      NaN            2020-12-31 12:13:04   \n",
       "\n",
       "            page_title                       organization_id  \\\n",
       "count            41345                                 41345   \n",
       "unique               4                                    34   \n",
       "top     Candidate page  b5753677-126d-4aad-8a7f-913210717f24   \n",
       "freq             15575                                  4800   \n",
       "mean               NaN                                   NaN   \n",
       "min                NaN                                   NaN   \n",
       "25%                NaN                                   NaN   \n",
       "50%                NaN                                   NaN   \n",
       "75%                NaN                                   NaN   \n",
       "max                NaN                                   NaN   \n",
       "\n",
       "                                     user_id  \n",
       "count                                  41345  \n",
       "unique                                   743  \n",
       "top     9a6d6f98-35dc-480a-be28-c92ed739bb03  \n",
       "freq                                    2580  \n",
       "mean                                     NaN  \n",
       "min                                      NaN  \n",
       "25%                                      NaN  \n",
       "50%                                      NaN  \n",
       "75%                                      NaN  \n",
       "max                                      NaN  "
      ]
     },
     "execution_count": 8,
     "metadata": {},
     "output_type": "execute_result"
    }
   ],
   "source": [
    "data.describe(include='all', datetime_is_numeric=True)"
   ]
  },
  {
   "cell_type": "code",
   "execution_count": 9,
   "metadata": {},
   "outputs": [
    {
     "name": "stdout",
     "output_type": "stream",
     "text": [
      "Welcome\n",
      "Job position\n",
      "All job positions\n",
      "Candidate page\n"
     ]
    }
   ],
   "source": [
    "for page in data['page_title'].unique():\n",
    "    print(page)"
   ]
  },
  {
   "cell_type": "code",
   "execution_count": 10,
   "metadata": {},
   "outputs": [
    {
     "data": {
      "text/plain": [
       "array([1], dtype=int64)"
      ]
     },
     "execution_count": 10,
     "metadata": {},
     "output_type": "execute_result"
    }
   ],
   "source": [
    "# are users belonging to more than one organization?\n",
    "org_per_user =  pd.DataFrame(data.groupby('user_id')['organization_id'].nunique().sort_values()).reset_index()\n",
    "org_per_user['organization_id'].unique() # no "
   ]
  },
  {
   "cell_type": "code",
   "execution_count": 11,
   "metadata": {},
   "outputs": [
    {
     "data": {
      "text/html": [
       "<div>\n",
       "<style scoped>\n",
       "    .dataframe tbody tr th:only-of-type {\n",
       "        vertical-align: middle;\n",
       "    }\n",
       "\n",
       "    .dataframe tbody tr th {\n",
       "        vertical-align: top;\n",
       "    }\n",
       "\n",
       "    .dataframe thead th {\n",
       "        text-align: right;\n",
       "    }\n",
       "</style>\n",
       "<table border=\"1\" class=\"dataframe\">\n",
       "  <thead>\n",
       "    <tr style=\"text-align: right;\">\n",
       "      <th></th>\n",
       "      <th>organization_id</th>\n",
       "      <th>N users in 2020</th>\n",
       "    </tr>\n",
       "  </thead>\n",
       "  <tbody>\n",
       "    <tr>\n",
       "      <th>0</th>\n",
       "      <td>e1999767-9424-4ca3-9d67-17702aefe953</td>\n",
       "      <td>1</td>\n",
       "    </tr>\n",
       "    <tr>\n",
       "      <th>1</th>\n",
       "      <td>2628aac3-054b-4bbb-8e83-db6c8ac867f5</td>\n",
       "      <td>1</td>\n",
       "    </tr>\n",
       "    <tr>\n",
       "      <th>2</th>\n",
       "      <td>1a3672b1-bd62-4ad1-abbb-3bcafe0cadaf</td>\n",
       "      <td>2</td>\n",
       "    </tr>\n",
       "    <tr>\n",
       "      <th>3</th>\n",
       "      <td>3b5e6b24-2b66-4384-a7e5-cc92ef0d8eb4</td>\n",
       "      <td>2</td>\n",
       "    </tr>\n",
       "    <tr>\n",
       "      <th>4</th>\n",
       "      <td>f498e205-f31a-4cb8-bbf8-139975ebd28b</td>\n",
       "      <td>3</td>\n",
       "    </tr>\n",
       "    <tr>\n",
       "      <th>5</th>\n",
       "      <td>1773a1a3-031f-4879-a635-9999ea621d63</td>\n",
       "      <td>3</td>\n",
       "    </tr>\n",
       "    <tr>\n",
       "      <th>6</th>\n",
       "      <td>db19997b-9bab-46ea-96b7-474bbe927b73</td>\n",
       "      <td>3</td>\n",
       "    </tr>\n",
       "    <tr>\n",
       "      <th>7</th>\n",
       "      <td>728c5804-e9ce-46ba-b78a-01be6568448c</td>\n",
       "      <td>3</td>\n",
       "    </tr>\n",
       "    <tr>\n",
       "      <th>8</th>\n",
       "      <td>1a1ea75a-d6c4-4da5-b4ab-99706ce3d078</td>\n",
       "      <td>4</td>\n",
       "    </tr>\n",
       "    <tr>\n",
       "      <th>9</th>\n",
       "      <td>1ed2f209-30b3-4dd5-96eb-2b50f63084c1</td>\n",
       "      <td>4</td>\n",
       "    </tr>\n",
       "    <tr>\n",
       "      <th>10</th>\n",
       "      <td>99954840-7948-4559-9636-11b91e8612e4</td>\n",
       "      <td>5</td>\n",
       "    </tr>\n",
       "    <tr>\n",
       "      <th>11</th>\n",
       "      <td>7383566c-10d4-4f29-9e0e-4b19fe87b5f5</td>\n",
       "      <td>5</td>\n",
       "    </tr>\n",
       "    <tr>\n",
       "      <th>12</th>\n",
       "      <td>33b98add-b63a-4462-8b88-aa75a06269c0</td>\n",
       "      <td>7</td>\n",
       "    </tr>\n",
       "    <tr>\n",
       "      <th>13</th>\n",
       "      <td>8e8b2a04-e39c-41ba-a35e-85e0dac74554</td>\n",
       "      <td>9</td>\n",
       "    </tr>\n",
       "    <tr>\n",
       "      <th>14</th>\n",
       "      <td>104bdca5-64c5-46b4-a404-7ed440606d8d</td>\n",
       "      <td>9</td>\n",
       "    </tr>\n",
       "    <tr>\n",
       "      <th>15</th>\n",
       "      <td>50cab3ba-118e-42dc-96d8-039debf7205a</td>\n",
       "      <td>10</td>\n",
       "    </tr>\n",
       "    <tr>\n",
       "      <th>16</th>\n",
       "      <td>9ed88d59-686d-49e0-9543-8b6520bbaddb</td>\n",
       "      <td>10</td>\n",
       "    </tr>\n",
       "    <tr>\n",
       "      <th>17</th>\n",
       "      <td>17a725e0-eb0d-4088-8433-3978fc7e5620</td>\n",
       "      <td>12</td>\n",
       "    </tr>\n",
       "    <tr>\n",
       "      <th>18</th>\n",
       "      <td>26d8ed02-ad22-4543-b620-580906fe0c74</td>\n",
       "      <td>13</td>\n",
       "    </tr>\n",
       "    <tr>\n",
       "      <th>19</th>\n",
       "      <td>35c59c27-bcde-4118-89a3-9a5864e5bf29</td>\n",
       "      <td>16</td>\n",
       "    </tr>\n",
       "    <tr>\n",
       "      <th>20</th>\n",
       "      <td>18f6d076-394c-41d2-8ec6-e8b870535798</td>\n",
       "      <td>16</td>\n",
       "    </tr>\n",
       "    <tr>\n",
       "      <th>21</th>\n",
       "      <td>db77126f-9937-4271-8c06-8d60af3ff55e</td>\n",
       "      <td>18</td>\n",
       "    </tr>\n",
       "    <tr>\n",
       "      <th>22</th>\n",
       "      <td>a68c69e6-5397-49fc-ab52-6acb2476dbfc</td>\n",
       "      <td>18</td>\n",
       "    </tr>\n",
       "    <tr>\n",
       "      <th>23</th>\n",
       "      <td>e36e512a-bb00-48b4-8a6d-5cc832cf3aed</td>\n",
       "      <td>20</td>\n",
       "    </tr>\n",
       "    <tr>\n",
       "      <th>24</th>\n",
       "      <td>8d45a88b-9c3d-4fc9-a911-1b9ed1bc1af1</td>\n",
       "      <td>21</td>\n",
       "    </tr>\n",
       "    <tr>\n",
       "      <th>25</th>\n",
       "      <td>80a5b66c-042c-4ed8-a852-53797010e31f</td>\n",
       "      <td>22</td>\n",
       "    </tr>\n",
       "    <tr>\n",
       "      <th>26</th>\n",
       "      <td>132dc289-c205-409c-b296-e9b6a0d34792</td>\n",
       "      <td>23</td>\n",
       "    </tr>\n",
       "    <tr>\n",
       "      <th>27</th>\n",
       "      <td>a1ea8f27-228b-48fd-b7a2-b12f7ecb9495</td>\n",
       "      <td>25</td>\n",
       "    </tr>\n",
       "    <tr>\n",
       "      <th>28</th>\n",
       "      <td>b5753677-126d-4aad-8a7f-913210717f24</td>\n",
       "      <td>25</td>\n",
       "    </tr>\n",
       "    <tr>\n",
       "      <th>29</th>\n",
       "      <td>54cffcb5-0d9a-4d89-a146-440a95bb0c81</td>\n",
       "      <td>25</td>\n",
       "    </tr>\n",
       "    <tr>\n",
       "      <th>30</th>\n",
       "      <td>1f27cff4-52e3-4da4-ae57-d5c5d691afbd</td>\n",
       "      <td>26</td>\n",
       "    </tr>\n",
       "    <tr>\n",
       "      <th>31</th>\n",
       "      <td>d95b2ea4-af3c-4dfe-9ba2-315c120815b4</td>\n",
       "      <td>48</td>\n",
       "    </tr>\n",
       "    <tr>\n",
       "      <th>32</th>\n",
       "      <td>3d9527c9-9496-46fa-b194-7d9d95f172d9</td>\n",
       "      <td>167</td>\n",
       "    </tr>\n",
       "    <tr>\n",
       "      <th>33</th>\n",
       "      <td>c663864c-fb90-4b50-96a3-1d3db71dbacb</td>\n",
       "      <td>167</td>\n",
       "    </tr>\n",
       "  </tbody>\n",
       "</table>\n",
       "</div>"
      ],
      "text/plain": [
       "                         organization_id  N users in 2020\n",
       "0   e1999767-9424-4ca3-9d67-17702aefe953                1\n",
       "1   2628aac3-054b-4bbb-8e83-db6c8ac867f5                1\n",
       "2   1a3672b1-bd62-4ad1-abbb-3bcafe0cadaf                2\n",
       "3   3b5e6b24-2b66-4384-a7e5-cc92ef0d8eb4                2\n",
       "4   f498e205-f31a-4cb8-bbf8-139975ebd28b                3\n",
       "5   1773a1a3-031f-4879-a635-9999ea621d63                3\n",
       "6   db19997b-9bab-46ea-96b7-474bbe927b73                3\n",
       "7   728c5804-e9ce-46ba-b78a-01be6568448c                3\n",
       "8   1a1ea75a-d6c4-4da5-b4ab-99706ce3d078                4\n",
       "9   1ed2f209-30b3-4dd5-96eb-2b50f63084c1                4\n",
       "10  99954840-7948-4559-9636-11b91e8612e4                5\n",
       "11  7383566c-10d4-4f29-9e0e-4b19fe87b5f5                5\n",
       "12  33b98add-b63a-4462-8b88-aa75a06269c0                7\n",
       "13  8e8b2a04-e39c-41ba-a35e-85e0dac74554                9\n",
       "14  104bdca5-64c5-46b4-a404-7ed440606d8d                9\n",
       "15  50cab3ba-118e-42dc-96d8-039debf7205a               10\n",
       "16  9ed88d59-686d-49e0-9543-8b6520bbaddb               10\n",
       "17  17a725e0-eb0d-4088-8433-3978fc7e5620               12\n",
       "18  26d8ed02-ad22-4543-b620-580906fe0c74               13\n",
       "19  35c59c27-bcde-4118-89a3-9a5864e5bf29               16\n",
       "20  18f6d076-394c-41d2-8ec6-e8b870535798               16\n",
       "21  db77126f-9937-4271-8c06-8d60af3ff55e               18\n",
       "22  a68c69e6-5397-49fc-ab52-6acb2476dbfc               18\n",
       "23  e36e512a-bb00-48b4-8a6d-5cc832cf3aed               20\n",
       "24  8d45a88b-9c3d-4fc9-a911-1b9ed1bc1af1               21\n",
       "25  80a5b66c-042c-4ed8-a852-53797010e31f               22\n",
       "26  132dc289-c205-409c-b296-e9b6a0d34792               23\n",
       "27  a1ea8f27-228b-48fd-b7a2-b12f7ecb9495               25\n",
       "28  b5753677-126d-4aad-8a7f-913210717f24               25\n",
       "29  54cffcb5-0d9a-4d89-a146-440a95bb0c81               25\n",
       "30  1f27cff4-52e3-4da4-ae57-d5c5d691afbd               26\n",
       "31  d95b2ea4-af3c-4dfe-9ba2-315c120815b4               48\n",
       "32  3d9527c9-9496-46fa-b194-7d9d95f172d9              167\n",
       "33  c663864c-fb90-4b50-96a3-1d3db71dbacb              167"
      ]
     },
     "execution_count": 11,
     "metadata": {},
     "output_type": "execute_result"
    }
   ],
   "source": [
    "# how many users per organization we have (yearly)\n",
    "users_per_org =  pd.DataFrame(data.groupby('organization_id')['user_id'].nunique().sort_values()).reset_index()\n",
    "users_per_org = users_per_org.rename(columns={'user_id': 'N users in 2020'})\n",
    "users_per_org  "
   ]
  },
  {
   "cell_type": "code",
   "execution_count": 12,
   "metadata": {},
   "outputs": [
    {
     "data": {
      "text/plain": [
       "21.852941176470587"
      ]
     },
     "execution_count": 12,
     "metadata": {},
     "output_type": "execute_result"
    }
   ],
   "source": [
    "users_per_org['N users in 2020'].values.mean()"
   ]
  },
  {
   "cell_type": "code",
   "execution_count": 13,
   "metadata": {},
   "outputs": [
    {
     "data": {
      "text/plain": [
       "11.0"
      ]
     },
     "execution_count": 13,
     "metadata": {},
     "output_type": "execute_result"
    }
   ],
   "source": [
    "np.median(users_per_org['N users in 2020'].values)"
   ]
  },
  {
   "cell_type": "code",
   "execution_count": 14,
   "metadata": {},
   "outputs": [
    {
     "data": {
      "image/png": "[encoded data removed]",
      "text/plain": [
       "<Figure size 432x288 with 1 Axes>"
      ]
     },
     "metadata": {
      "needs_background": "light"
     },
     "output_type": "display_data"
    }
   ],
   "source": [
    "# plot users per organization\n",
    "users_per_org.hist(color = 'darkblue')\n",
    "plt.title('Users per organization with at least one interaction in 2020')\n",
    "plt.ylabel('frequency')\n",
    "plt.xlabel('users per organization')\n",
    "plt.savefig('figures/0/1_users_per_org', bbox_inches='tight')\n",
    "plt.show()"
   ]
  },
  {
   "cell_type": "code",
   "execution_count": 15,
   "metadata": {},
   "outputs": [
    {
     "data": {
      "text/html": [
       "<div>\n",
       "<style scoped>\n",
       "    .dataframe tbody tr th:only-of-type {\n",
       "        vertical-align: middle;\n",
       "    }\n",
       "\n",
       "    .dataframe tbody tr th {\n",
       "        vertical-align: top;\n",
       "    }\n",
       "\n",
       "    .dataframe thead th {\n",
       "        text-align: right;\n",
       "    }\n",
       "</style>\n",
       "<table border=\"1\" class=\"dataframe\">\n",
       "  <thead>\n",
       "    <tr style=\"text-align: right;\">\n",
       "      <th></th>\n",
       "      <th>user_id</th>\n",
       "      <th>N interactions</th>\n",
       "    </tr>\n",
       "  </thead>\n",
       "  <tbody>\n",
       "    <tr>\n",
       "      <th>0</th>\n",
       "      <td>80e8e2cc-09ae-4768-914f-5524e37e2584</td>\n",
       "      <td>1</td>\n",
       "    </tr>\n",
       "    <tr>\n",
       "      <th>1</th>\n",
       "      <td>253888ab-6af8-4a80-8f27-dd6f18c298f6</td>\n",
       "      <td>1</td>\n",
       "    </tr>\n",
       "    <tr>\n",
       "      <th>2</th>\n",
       "      <td>54fe450a-7774-4fa3-85b3-76a8365a72db</td>\n",
       "      <td>1</td>\n",
       "    </tr>\n",
       "    <tr>\n",
       "      <th>3</th>\n",
       "      <td>937c9a3c-a0c5-436c-8e88-6f147fa7aa18</td>\n",
       "      <td>1</td>\n",
       "    </tr>\n",
       "    <tr>\n",
       "      <th>4</th>\n",
       "      <td>22fce5e7-b9dc-4990-b4b1-bbe0639971f0</td>\n",
       "      <td>1</td>\n",
       "    </tr>\n",
       "  </tbody>\n",
       "</table>\n",
       "</div>"
      ],
      "text/plain": [
       "                                user_id  N interactions\n",
       "0  80e8e2cc-09ae-4768-914f-5524e37e2584               1\n",
       "1  253888ab-6af8-4a80-8f27-dd6f18c298f6               1\n",
       "2  54fe450a-7774-4fa3-85b3-76a8365a72db               1\n",
       "3  937c9a3c-a0c5-436c-8e88-6f147fa7aa18               1\n",
       "4  22fce5e7-b9dc-4990-b4b1-bbe0639971f0               1"
      ]
     },
     "execution_count": 15,
     "metadata": {},
     "output_type": "execute_result"
    }
   ],
   "source": [
    "# number of interactions per user\n",
    "inter_per_user =  pd.DataFrame(data.groupby('user_id')['event_id'].count().sort_values()).reset_index()\n",
    "inter_per_user = inter_per_user.rename(columns={'event_id': 'N interactions'})\n",
    "inter_per_user.head()"
   ]
  },
  {
   "cell_type": "code",
   "execution_count": 16,
   "metadata": {},
   "outputs": [
    {
     "data": {
      "text/plain": [
       "55.646029609690444"
      ]
     },
     "execution_count": 16,
     "metadata": {},
     "output_type": "execute_result"
    }
   ],
   "source": [
    "inter_per_user['N interactions'].values.mean()"
   ]
  },
  {
   "cell_type": "code",
   "execution_count": 17,
   "metadata": {},
   "outputs": [
    {
     "data": {
      "text/plain": [
       "7.0"
      ]
     },
     "execution_count": 17,
     "metadata": {},
     "output_type": "execute_result"
    }
   ],
   "source": [
    "np.median(inter_per_user['N interactions'].values)"
   ]
  },
  {
   "cell_type": "code",
   "execution_count": 18,
   "metadata": {},
   "outputs": [
    {
     "data": {
      "image/png": "[encoded data removed]",
      "text/plain": [
       "<Figure size 432x288 with 1 Axes>"
      ]
     },
     "metadata": {
      "needs_background": "light"
     },
     "output_type": "display_data"
    }
   ],
   "source": [
    "# plot number of interactions\n",
    "inter_per_user['N interactions'].hist(color = 'purple')\n",
    "plt.title('Distribution of annual Interactions per user - 2020')\n",
    "plt.ylabel('frequency')\n",
    "plt.xlabel('N of interactions per user')\n",
    "plt.savefig('figures/0/2_interactions_per_user', bbox_inches='tight')\n",
    "plt.show()"
   ]
  },
  {
   "cell_type": "code",
   "execution_count": 19,
   "metadata": {},
   "outputs": [
    {
     "data": {
      "text/html": [
       "<div>\n",
       "<style scoped>\n",
       "    .dataframe tbody tr th:only-of-type {\n",
       "        vertical-align: middle;\n",
       "    }\n",
       "\n",
       "    .dataframe tbody tr th {\n",
       "        vertical-align: top;\n",
       "    }\n",
       "\n",
       "    .dataframe thead th {\n",
       "        text-align: right;\n",
       "    }\n",
       "</style>\n",
       "<table border=\"1\" class=\"dataframe\">\n",
       "  <thead>\n",
       "    <tr style=\"text-align: right;\">\n",
       "      <th></th>\n",
       "      <th>page_title</th>\n",
       "      <th>N interactions</th>\n",
       "    </tr>\n",
       "  </thead>\n",
       "  <tbody>\n",
       "    <tr>\n",
       "      <th>0</th>\n",
       "      <td>All job positions</td>\n",
       "      <td>2432</td>\n",
       "    </tr>\n",
       "    <tr>\n",
       "      <th>1</th>\n",
       "      <td>Welcome</td>\n",
       "      <td>10718</td>\n",
       "    </tr>\n",
       "    <tr>\n",
       "      <th>2</th>\n",
       "      <td>Job position</td>\n",
       "      <td>12620</td>\n",
       "    </tr>\n",
       "    <tr>\n",
       "      <th>3</th>\n",
       "      <td>Candidate page</td>\n",
       "      <td>15575</td>\n",
       "    </tr>\n",
       "  </tbody>\n",
       "</table>\n",
       "</div>"
      ],
      "text/plain": [
       "          page_title  N interactions\n",
       "0  All job positions            2432\n",
       "1            Welcome           10718\n",
       "2       Job position           12620\n",
       "3     Candidate page           15575"
      ]
     },
     "execution_count": 19,
     "metadata": {},
     "output_type": "execute_result"
    }
   ],
   "source": [
    "# Total number of interactions per page\n",
    "inter_per_page =  pd.DataFrame(data.groupby('page_title')['event_id'].count().sort_values()).reset_index()\n",
    "inter_per_page = inter_per_page.rename(columns={'event_id': 'N interactions'})\n",
    "inter_per_page"
   ]
  },
  {
   "cell_type": "code",
   "execution_count": 20,
   "metadata": {},
   "outputs": [
    {
     "data": {
      "image/png": "[encoded data removed]",
      "text/plain": [
       "<Figure size 432x288 with 1 Axes>"
      ]
     },
     "metadata": {},
     "output_type": "display_data"
    }
   ],
   "source": [
    "# Pie chart\n",
    "labels = inter_per_page['page_title'].values\n",
    "sizes = inter_per_page['N interactions'].values\n",
    "explode = (0.1, 0.1, 0.1, 0.1)  \n",
    "\n",
    "fig1, ax1 = plt.subplots()\n",
    "ax1.pie(sizes, explode=explode, labels=labels, autopct='%1.1f%%', startangle=50)\n",
    "ax1.axis('equal')\n",
    "plt.title(label = 'Annual interaction per page - 2020',fontweight= 'bold')\n",
    "plt.savefig('figures/0/3_interactions_per_page', bbox_inches='tight')\n",
    "\n",
    "plt.show()"
   ]
  },
  {
   "cell_type": "markdown",
   "metadata": {},
   "source": [
    "Comments:\n",
    "* There are no null values in this data set\n",
    "* Events are unique $\\rightarrow$ no duplicates\n",
    "* The data belong to the year 2020, from 2/Jan to 31/Dec\n",
    "* There are 4 categories of page_title\n",
    "* The data belong to 34 organizations and 743 users\n",
    "* No users are belonging to more than one organization\n",
    "* The number of users per organization varies between 167, this analysis counts as a user belonging to a company when a user did at least one interaction with the product in a year"
   ]
  }
 ],
 "metadata": {
  "kernelspec": {
   "display_name": "Python 3",
   "language": "python",
   "name": "python3"
  },
  "language_info": {
   "codemirror_mode": {
    "name": "ipython",
    "version": 3
   },
   "file_extension": ".py",
   "mimetype": "text/x-python",
   "name": "python",
   "nbconvert_exporter": "python",
   "pygments_lexer": "ipython3",
   "version": "3.7.7"
  }
 },
 "nbformat": 4,
 "nbformat_minor": 4
}
